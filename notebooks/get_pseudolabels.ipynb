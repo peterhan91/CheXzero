{
 "cells": [
  {
   "cell_type": "code",
   "execution_count": 1,
   "id": "82e2f01f",
   "metadata": {},
   "outputs": [
    {
     "name": "stdout",
     "output_type": "stream",
     "text": [
      "INFO 05-31 21:42:33 [__init__.py:239] Automatically detected platform cuda.\n"
     ]
    }
   ],
   "source": [
    "import json\n",
    "import ast\n",
    "from tqdm import tqdm\n",
    "from vllm import LLM\n",
    "from tqdm import tqdm\n",
    "from vllm.sampling_params import SamplingParams\n",
    "\n",
    "from IPython.core.interactiveshell import InteractiveShell\n",
    "InteractiveShell.ast_node_interactivity = \"all\""
   ]
  },
  {
   "cell_type": "code",
   "execution_count": 2,
   "id": "db487c9b",
   "metadata": {},
   "outputs": [],
   "source": [
    "with open('/home/than/DeepLearning/CheXzero/data/mimic_pseudoans_cardiomegaly_0.1.json', 'r') as f:\n",
    "    concepts = json.load(f).keys()"
   ]
  },
  {
   "cell_type": "code",
   "execution_count": 3,
   "id": "d98e51dc",
   "metadata": {},
   "outputs": [
    {
     "data": {
      "text/plain": [
       "'stable left basilar opacity, likely edema'"
      ]
     },
     "execution_count": 3,
     "metadata": {},
     "output_type": "execute_result"
    },
    {
     "name": "stdout",
     "output_type": "stream",
     "text": [
      "Number of concepts: 36599\n"
     ]
    }
   ],
   "source": [
    "concepts = list(concepts)\n",
    "len_concepts = len(concepts)\n",
    "concepts[0]\n",
    "print(f\"Number of concepts: {len_concepts}\")"
   ]
  },
  {
   "cell_type": "markdown",
   "id": "765d60cd",
   "metadata": {},
   "source": [
    "### Concept Sets"
   ]
  },
  {
   "cell_type": "code",
   "execution_count": 4,
   "id": "fdbd4cd2",
   "metadata": {},
   "outputs": [
    {
     "name": "stderr",
     "output_type": "stream",
     "text": [
      "100%|██████████| 377110/377110 [00:04<00:00, 83019.50it/s]\n"
     ]
    },
    {
     "name": "stdout",
     "output_type": "stream",
     "text": [
      "Total number of unique concepts: 368294\n"
     ]
    }
   ],
   "source": [
    "with open('/home/than/DeepLearning/CheXzero/data/mimic_concepts.json', 'r') as f:\n",
    "    results = json.load(f)\n",
    "\n",
    "concepts = []\n",
    "for result in tqdm(results):\n",
    "    try:\n",
    "        re_dict = ast.literal_eval(result['model_output'])\n",
    "        concepts.extend(re_dict['observations'])\n",
    "    except:\n",
    "        # print(result['model_output'])\n",
    "        continue\n",
    "concepts = [concept.lower() for concept in concepts]\n",
    "concepts = list(set(concepts))\n",
    "length = len(concepts)\n",
    "print(f\"Total number of unique concepts: {length}\")"
   ]
  },
  {
   "cell_type": "markdown",
   "id": "175f4326",
   "metadata": {},
   "source": [
    "### Prepare LLM"
   ]
  },
  {
   "cell_type": "code",
   "execution_count": 3,
   "id": "85efe175",
   "metadata": {},
   "outputs": [
    {
     "name": "stdout",
     "output_type": "stream",
     "text": [
      "INFO 05-23 21:25:27 [config.py:689] This model supports multiple tasks: {'reward', 'generate', 'embed', 'classify', 'score'}. Defaulting to 'generate'.\n",
      "INFO 05-23 21:25:27 [config.py:1901] Chunked prefill is enabled with max_num_batched_tokens=8192.\n",
      "INFO 05-23 21:25:28 [core.py:61] Initializing a V1 LLM engine (v0.8.4) with config: model='microsoft/phi-4', speculative_config=None, tokenizer='microsoft/phi-4', skip_tokenizer_init=False, tokenizer_mode=auto, revision=None, override_neuron_config=None, tokenizer_revision=None, trust_remote_code=True, dtype=torch.bfloat16, max_seq_len=16384, download_dir=None, load_format=auto, tensor_parallel_size=1, pipeline_parallel_size=1, disable_custom_all_reduce=False, quantization=None, enforce_eager=False, kv_cache_dtype=auto,  device_config=cuda, decoding_config=DecodingConfig(guided_decoding_backend='auto', reasoning_backend=None), observability_config=ObservabilityConfig(show_hidden_metrics=False, otlp_traces_endpoint=None, collect_model_forward_time=False, collect_model_execute_time=False), seed=None, served_model_name=microsoft/phi-4, num_scheduler_steps=1, multi_step_stream_outputs=True, enable_prefix_caching=True, chunked_prefill_enabled=True, use_async_output_proc=True, disable_mm_preprocessor_cache=False, mm_processor_kwargs=None, pooler_config=None, compilation_config={\"level\":3,\"custom_ops\":[\"none\"],\"splitting_ops\":[\"vllm.unified_attention\",\"vllm.unified_attention_with_output\"],\"use_inductor\":true,\"compile_sizes\":[],\"use_cudagraph\":true,\"cudagraph_num_of_warmups\":1,\"cudagraph_capture_sizes\":[512,504,496,488,480,472,464,456,448,440,432,424,416,408,400,392,384,376,368,360,352,344,336,328,320,312,304,296,288,280,272,264,256,248,240,232,224,216,208,200,192,184,176,168,160,152,144,136,128,120,112,104,96,88,80,72,64,56,48,40,32,24,16,8,4,2,1],\"max_capture_size\":512}\n",
      "WARNING 05-23 21:25:29 [utils.py:2444] Methods determine_num_available_blocks,device_config,get_cache_block_size_bytes,initialize_cache not implemented in <vllm.v1.worker.gpu_worker.Worker object at 0x7f4bd853ce50>\n",
      "INFO 05-23 21:25:29 [parallel_state.py:959] rank 0 in world size 1 is assigned as DP rank 0, PP rank 0, TP rank 0\n",
      "INFO 05-23 21:25:29 [cuda.py:221] Using Flash Attention backend on V1 engine.\n",
      "INFO 05-23 21:25:29 [gpu_model_runner.py:1276] Starting to load model microsoft/phi-4...\n",
      "WARNING 05-23 21:25:29 [topk_topp_sampler.py:69] FlashInfer is not available. Falling back to the PyTorch-native implementation of top-p & top-k sampling. For the best performance, please install FlashInfer.\n",
      "INFO 05-23 21:25:30 [weight_utils.py:265] Using model weights format ['*.safetensors']\n"
     ]
    },
    {
     "data": {
      "application/vnd.jupyter.widget-view+json": {
       "model_id": "13a3c10c32ae4cfc849183b097d34b6f",
       "version_major": 2,
       "version_minor": 0
      },
      "text/plain": [
       "model-00005-of-00006.safetensors:   0%|          | 0.00/4.77G [00:00<?, ?B/s]"
      ]
     },
     "metadata": {},
     "output_type": "display_data"
    },
    {
     "data": {
      "application/vnd.jupyter.widget-view+json": {
       "model_id": "4ee5e3a2d1834d1ab72b7f761e90e435",
       "version_major": 2,
       "version_minor": 0
      },
      "text/plain": [
       "model-00004-of-00006.safetensors:   0%|          | 0.00/4.77G [00:00<?, ?B/s]"
      ]
     },
     "metadata": {},
     "output_type": "display_data"
    },
    {
     "data": {
      "application/vnd.jupyter.widget-view+json": {
       "model_id": "bf86c5da0b2c4124a71db24ce96286e3",
       "version_major": 2,
       "version_minor": 0
      },
      "text/plain": [
       "model-00001-of-00006.safetensors:   0%|          | 0.00/4.93G [00:00<?, ?B/s]"
      ]
     },
     "metadata": {},
     "output_type": "display_data"
    },
    {
     "data": {
      "application/vnd.jupyter.widget-view+json": {
       "model_id": "b942de12671a465581552630f0413873",
       "version_major": 2,
       "version_minor": 0
      },
      "text/plain": [
       "model-00006-of-00006.safetensors:   0%|          | 0.00/4.99G [00:00<?, ?B/s]"
      ]
     },
     "metadata": {},
     "output_type": "display_data"
    },
    {
     "data": {
      "application/vnd.jupyter.widget-view+json": {
       "model_id": "f1955813b5d54cd382d283ea59a29d99",
       "version_major": 2,
       "version_minor": 0
      },
      "text/plain": [
       "model-00002-of-00006.safetensors:   0%|          | 0.00/4.95G [00:00<?, ?B/s]"
      ]
     },
     "metadata": {},
     "output_type": "display_data"
    },
    {
     "data": {
      "application/vnd.jupyter.widget-view+json": {
       "model_id": "01b31ea47f634e0895726f26ef3e4240",
       "version_major": 2,
       "version_minor": 0
      },
      "text/plain": [
       "model-00003-of-00006.safetensors:   0%|          | 0.00/4.90G [00:00<?, ?B/s]"
      ]
     },
     "metadata": {},
     "output_type": "display_data"
    },
    {
     "name": "stdout",
     "output_type": "stream",
     "text": [
      "INFO 05-23 21:29:48 [weight_utils.py:281] Time spent downloading weights for microsoft/phi-4: 258.312272 seconds\n"
     ]
    },
    {
     "data": {
      "application/vnd.jupyter.widget-view+json": {
       "model_id": "cb6d2f5a2dfe45c386c72068ed163dc5",
       "version_major": 2,
       "version_minor": 0
      },
      "text/plain": [
       "model.safetensors.index.json:   0%|          | 0.00/20.4k [00:00<?, ?B/s]"
      ]
     },
     "metadata": {},
     "output_type": "display_data"
    },
    {
     "data": {
      "application/vnd.jupyter.widget-view+json": {
       "model_id": "629c73612b184dca8923b6185b99982b",
       "version_major": 2,
       "version_minor": 0
      },
      "text/plain": [
       "Loading safetensors checkpoint shards:   0% Completed | 0/6 [00:00<?, ?it/s]\n"
      ]
     },
     "metadata": {},
     "output_type": "display_data"
    },
    {
     "name": "stdout",
     "output_type": "stream",
     "text": [
      "INFO 05-23 21:29:53 [loader.py:458] Loading weights took 4.91 seconds\n",
      "INFO 05-23 21:29:53 [gpu_model_runner.py:1291] Model loading took 27.3876 GiB and 263.911935 seconds\n",
      "INFO 05-23 21:29:59 [backends.py:416] Using cache directory: /home/than/.cache/vllm/torch_compile_cache/90df98595b/rank_0_0 for vLLM's torch.compile\n",
      "INFO 05-23 21:29:59 [backends.py:426] Dynamo bytecode transform time: 5.95 s\n",
      "INFO 05-23 21:30:01 [backends.py:132] Cache the graph of shape None for later use\n",
      "INFO 05-23 21:30:22 [backends.py:144] Compiling a graph for general shape takes 22.21 s\n",
      "INFO 05-23 21:30:38 [monitor.py:33] torch.compile takes 28.16 s in total\n",
      "INFO 05-23 21:30:39 [kv_cache_utils.py:634] GPU KV cache size: 71,248 tokens\n",
      "INFO 05-23 21:30:39 [kv_cache_utils.py:637] Maximum concurrency for 16,384 tokens per request: 4.35x\n",
      "INFO 05-23 21:31:09 [gpu_model_runner.py:1626] Graph capturing finished in 29 secs, took 1.99 GiB\n",
      "INFO 05-23 21:31:09 [core.py:163] init engine (profile, create kv cache, warmup model) took 75.24 seconds\n",
      "INFO 05-23 21:31:09 [core_client.py:435] Core engine process 0 ready.\n"
     ]
    }
   ],
   "source": [
    "model_name = \"microsoft/phi-4\" # \"mistralai/Ministral-8B-Instruct-2410\"\n",
    "sampling_params = SamplingParams(max_tokens=8192, temperature=0, top_k=-1)\n",
    "llm = LLM(model=model_name, \n",
    "          trust_remote_code=True,\n",
    "          # tokenizer_mode=\"mistral\", \n",
    "          # config_format=\"mistral\", \n",
    "          # load_format=\"mistral\"\n",
    "          )"
   ]
  },
  {
   "cell_type": "code",
   "execution_count": 8,
   "id": "ff40e5a0",
   "metadata": {},
   "outputs": [
    {
     "name": "stdout",
     "output_type": "stream",
     "text": [
      "\n",
      "You are a helpful assistant. Please respond in valid JSON only.\n",
      "Question: Think as a radiologist and answer yes /no / depends for whether the following concepts are clinically relevant for diagnosing 'pneumonia': ['Right upper lobe', 'Bilateral pleural effusions larger on the right side are stable', 'Near complete opacification of the right lung field', 'Air-filled loops of bowel under the hemidiaphragms bilaterally', 'Dobhoff tube terminating within the stomach', 'A right PICC tip is in the low SVC', 'Platelike atelectasis at the left lung bases persists', 'Trachea deviated rightward secondary to enlarged thyroid', 'Areas of platelike atelectasis at both lung bases and left hilus', 'Small amount of right subcutaneous emphysema', 'Right PICC line placement is unchanged', 'Mildly displaced fracture of the lateral right third rib', 'AP chest compared to ___:04 a.m.', 'Posttraumatic changes consistent with diaphragmatic rupture', 'Persistent right lower lobe peripheral airspace opacities']\n",
      "Output format: <concept>: <answer>.\n",
      "\n"
     ]
    }
   ],
   "source": [
    "pclass = \"pneumonia\"\n",
    "\n",
    "prompt = f\"\"\"\n",
    "You are a helpful assistant. Please respond in valid JSON only.\n",
    "Question: Think as a radiologist and answer yes /no / depends for whether the following concepts are clinically relevant for diagnosing '{pclass}': {concepts[:15]}\n",
    "Output format: <concept>: <answer>.\n",
    "\"\"\"\n",
    "print(prompt)"
   ]
  },
  {
   "cell_type": "code",
   "execution_count": 9,
   "id": "7fe1ce4b",
   "metadata": {},
   "outputs": [
    {
     "data": {
      "application/vnd.jupyter.widget-view+json": {
       "model_id": "c5bd66f1c8784f98877224c8cdf12933",
       "version_major": 2,
       "version_minor": 0
      },
      "text/plain": [
       "Processed prompts:   0%|          | 0/1 [00:00<?, ?it/s, est. speed input: 0.00 toks/s, output: 0.00 toks/s]"
      ]
     },
     "metadata": {},
     "output_type": "display_data"
    }
   ],
   "source": [
    "messages = [\n",
    "    {\n",
    "        \"role\": \"user\",\n",
    "        \"content\": prompt\n",
    "    },\n",
    "]\n",
    "\n",
    "outputs = llm.chat(messages, \n",
    "                sampling_params=sampling_params)\n",
    "\n",
    "result = {\n",
    "    \"id\": 0,\n",
    "    \"model_output\": outputs[0].outputs[0].text,\n",
    "}"
   ]
  },
  {
   "cell_type": "code",
   "execution_count": 10,
   "id": "1f6ff04c",
   "metadata": {},
   "outputs": [
    {
     "name": "stdout",
     "output_type": "stream",
     "text": [
      "```json\n",
      "{\n",
      "  \"Right upper lobe\": \"depends\",\n",
      "  \"Bilateral pleural effusions larger on the right side are stable\": \"depends\",\n",
      "  \"Near complete opacification of the right lung field\": \"yes\",\n",
      "  \"Air-filled loops of bowel under the hemidiaphragms bilaterally\": \"no\",\n",
      "  \"Dobhoff tube terminating within the stomach\": \"no\",\n",
      "  \"A right PICC tip is in the low SVC\": \"no\",\n",
      "  \"Platelike atelectasis at the left lung bases persists\": \"depends\",\n",
      "  \"Trachea deviated rightward secondary to enlarged thyroid\": \"no\",\n",
      "  \"Areas of platelike atelectasis at both lung bases and left hilus\": \"depends\",\n",
      "  \"Small amount of right subcutaneous emphysema\": \"depends\",\n",
      "  \"Right PICC line placement is unchanged\": \"no\",\n",
      "  \"Mildly displaced fracture of the lateral right third rib\": \"no\",\n",
      "  \"AP chest compared to ___:04 a.m.\": \"no\",\n",
      "  \"Posttraumatic changes consistent with diaphragmatic rupture\": \"depends\",\n",
      "  \"Persistent right lower lobe peripheral airspace opacities\": \"yes\"\n",
      "}\n",
      "```\n"
     ]
    }
   ],
   "source": [
    "print(result['model_output'])\n",
    "# print(concepts[:5])\n",
    "# json.loads(result['model_output'])"
   ]
  },
  {
   "cell_type": "markdown",
   "id": "8496da85",
   "metadata": {},
   "source": [
    "### Try ChatGPT"
   ]
  },
  {
   "cell_type": "code",
   "execution_count": null,
   "id": "9ed60156",
   "metadata": {},
   "outputs": [],
   "source": [
    "from openai import AzureOpenAI\n",
    "\n",
    "client = AzureOpenAI(\n",
    "  azure_endpoint = \"\", \n",
    "  api_key=\"\", \n",
    "  api_version=\"\",\n",
    ")"
   ]
  },
  {
   "cell_type": "code",
   "execution_count": 6,
   "id": "ec5b0043",
   "metadata": {},
   "outputs": [
    {
     "name": "stdout",
     "output_type": "stream",
     "text": [
      "\n",
      "You are a helpful assistant. Please respond in valid JSON only.\n",
      "Question: Answer yes/no/depends for whether the following concepts are clinically relevant for diagnosing 'cardiomegaly': ['picc line needs to be advanced by approximately 8 cm', 'upper enteric drainage tube ends in a non-distended stomach', 'small pleural effusions, larger on the right', 'consolidation in the left lower lung continues to improve', 'et tube tip at 5.5 cm above the carina', 'slight interval improvement in aeration at the left lung base', 'possible left goiter or cervical adenopathy', 'possible underlying emphysema', 'substantial interval increase in ground-glass opacities', 'vascular stents in both brachiocephalic veins', 'evidence of cervical fusion device', 'healed lateral left rib fractures', 'additional support lines and tubes in appropriate position', 'substantial pleural effusion accompanied by areas of relatively extensive parenchymal collapse', 'no consolidation, pneumothorax or pleural effusion', 'associated decrease in bilateral pleural effusions', 'right lower lobe pneumonia has essentially cleared', 'right lung volume is quite low', 'retrocardiac opacity concerning for lower lobe pneumonia', 'faint opacity in the right hemithorax', 'ng tube and endotracheal tube removed', 'on going improvement of the post biopsy parenchymal opacity at the left lung bases', 'right-sided ij line with distal lead tip in the distal svc', 'no definite acute fracture or pneumothorax', 'large right posterior pleural loculation is bigger and contains more fluid and less air', 'interstitial markings are diffusely increased', 'there are no focal lung consolidations', 'pacemaker generator and leads appear in unchanged position', 'sharp margination of a region of consolidation in the right lower lung could be explained by loculated pneumothorax', 'improved ventilation of the left lower lung and the left lung bases', 'opacity adjacent to the right mediastinal border', 'subsegmental atelectasis in the left mid lung', 'enlargement of the cardiac silhouette due to known cardiomegaly and pericardial effusion', 'massive aspiration', 'no perivascular haze or evidence of interstitial or alveolar edema', 'small effusions have decreased', 'right picc line tip projects over the lower svc', 'slight blunting of right costophrenic angle', 'mild bibasilar opacities stable', 'perihilar opacity with air bronchograms', 'air-fluid level in the posterior aspect of the lung', 'pattern most likely reflecting worsening pulmonary edema', 'interval development of infectious process', \"patient's chin obscures evaluation of the medial lung apices\", 'remainder of the lungs are grossly clear', 'midthoracic dextroscoliosis', 'minimal amount of left pleural effusion suspected', 'basilar opacity in the right lower lobe', 'worsening, interstitial and alveolar opacities primarily in the right lung', 'ng tube ends in the proximal gastric cavity', 'new heterogeneous opacity of the right lung apex', 'right lower lobe consolidation with possible atelectasis', 'moderate layering right pleural effusion also appears slightly smaller', 'dahboff tube has been removed', 'right port-a-cath in constant position', 'lower lobe is congested', 'potential prominence of the left pulmonary artery', 'pleural plaques', 'residual mild interstitial edema still present', 'these likely represent a combination of pulmonary edema and atelectasis, however in the appropriate clinical setting underlying pneumonia cannot be excluded', 'right pleural effusion similar to prior', 'lungs are clear, but hyperinflated', 'heart likely upper limits of normal in size', 'aspiration or pneumonia likely', 'transvenous ij pacemaker', 'impression of chf that has worsened', 'prominence of pulmonary vasculature is likely secondary to crowding from low lung volumes', 'left venous access line is likely positioned in the persistent left superior vena cava', 'mild pulmonary edema, predominantly interstitial', 'slight reduction in height of 2 vertebral bodies', 'opacities at the lung bases', 'spinal fixation devices seen', 'expected post-cabg changes', 'worsening moderate pulmonary and interstitial edema', 'presumed surgical material in relation to the anteromedial aspect of the right hemidiaphragm', 'new right internal jugular vein catheter with normal course', 'the cardiac silhouette, hilar, and mediastinal contours appear normal', 'unchanged bilateral basal opacities', 'cardiac silhouette has grown substantially larger', 'left upper lobe remains collapsed around a large mass', 'nasogastric drainage tube ends in the upper portion of a mildly distended stomach', 'moderate elevation of the left hemidiaphragm persists', 'dual lead pacemaker identified', 'left paramedian line with four radiodense markers', 'increased interstitial opacities in the right lung', 'enlarged heart', 'an ng tube is present, tip extends beneath the diaphragm and overlies the stomach', 'endotracheal tube difficult to identify', 'asymmetric opacification of the right hemithorax', 'cardiac silhouette is slightly larger now than earlier in the day', 'interstitial abnormality at the base of the left lung could be consolidation', 'clips in the left upper quadrant are noted', 'lower lung volumes accentuate pulmonary vascular markings', 'nipple shadow projects over the right lower hemithorax', 'scattered interstitial opacities with lower lung predominance', 'right lung mass', 'catheter tubing in the left lower abdomen', 'interval increase in ground-glass airspace opacification in multiple lung zones', 'no prior', 'chronic deformity of the humeral head']\n",
      "Output format: <concept>: <answer>.\n",
      "\n"
     ]
    }
   ],
   "source": [
    "pclass = \"cardiomegaly\"\n",
    "\n",
    "prompt = f\"\"\"\n",
    "You are a helpful assistant. Please respond in valid JSON only.\n",
    "Question: Answer yes/no/depends for whether the following concepts are clinically relevant for diagnosing '{pclass}': {concepts[:100]}\n",
    "Output format: <concept>: <answer>.\n",
    "\"\"\"\n",
    "print(prompt)"
   ]
  },
  {
   "cell_type": "code",
   "execution_count": 7,
   "id": "2b95c57b",
   "metadata": {},
   "outputs": [],
   "source": [
    "response = client.chat.completions.create(\n",
    "            model=\"gpt-4.1\", \n",
    "            messages=[\n",
    "                {\"role\": \"system\", \"content\": \"You are a helpful assistant.\"},\n",
    "                {\"role\": \"user\", \"content\": prompt},\n",
    "            ],\n",
    "            temperature=0.0,\n",
    "        ).choices[0].message.content"
   ]
  },
  {
   "cell_type": "code",
   "execution_count": 8,
   "id": "683d03ba",
   "metadata": {},
   "outputs": [
    {
     "name": "stdout",
     "output_type": "stream",
     "text": [
      "{\n",
      "  \"picc line needs to be advanced by approximately 8 cm\": \"no\",\n",
      "  \"upper enteric drainage tube ends in a non-distended stomach\": \"no\",\n",
      "  \"small pleural effusions, larger on the right\": \"no\",\n",
      "  \"consolidation in the left lower lung continues to improve\": \"no\",\n",
      "  \"et tube tip at 5.5 cm above the carina\": \"no\",\n",
      "  \"slight interval improvement in aeration at the left lung base\": \"no\",\n",
      "  \"possible left goiter or cervical adenopathy\": \"no\",\n",
      "  \"possible underlying emphysema\": \"no\",\n",
      "  \"substantial interval increase in ground-glass opacities\": \"no\",\n",
      "  \"vascular stents in both brachiocephalic veins\": \"no\",\n",
      "  \"evidence of cervical fusion device\": \"no\",\n",
      "  \"healed lateral left rib fractures\": \"no\",\n",
      "  \"additional support lines and tubes in appropriate position\": \"no\",\n",
      "  \"substantial pleural effusion accompanied by areas of relatively extensive parenchymal collapse\": \"no\",\n",
      "  \"no consolidation, pneumothorax or pleural effusion\": \"no\",\n",
      "  \"associated decrease in bilateral pleural effusions\": \"no\",\n",
      "  \"right lower lobe pneumonia has essentially cleared\": \"no\",\n",
      "  \"right lung volume is quite low\": \"no\",\n",
      "  \"retrocardiac opacity concerning for lower lobe pneumonia\": \"no\",\n",
      "  \"faint opacity in the right hemithorax\": \"no\",\n",
      "  \"ng tube and endotracheal tube removed\": \"no\",\n",
      "  \"on going improvement of the post biopsy parenchymal opacity at the left lung bases\": \"no\",\n",
      "  \"right-sided ij line with distal lead tip in the distal svc\": \"no\",\n",
      "  \"no definite acute fracture or pneumothorax\": \"no\",\n",
      "  \"large right posterior pleural loculation is bigger and contains more fluid and less air\": \"no\",\n",
      "  \"interstitial markings are diffusely increased\": \"no\",\n",
      "  \"there are no focal lung consolidations\": \"no\",\n",
      "  \"pacemaker generator and leads appear in unchanged position\": \"no\",\n",
      "  \"sharp margination of a region of consolidation in the right lower lung could be explained by loculated pneumothorax\": \"no\",\n",
      "  \"improved ventilation of the left lower lung and the left lung bases\": \"no\",\n",
      "  \"opacity adjacent to the right mediastinal border\": \"depends\",\n",
      "  \"subsegmental atelectasis in the left mid lung\": \"no\",\n",
      "  \"enlargement of the cardiac silhouette due to known cardiomegaly and pericardial effusion\": \"yes\",\n",
      "  \"massive aspiration\": \"no\",\n",
      "  \"no perivascular haze or evidence of interstitial or alveolar edema\": \"no\",\n",
      "  \"small effusions have decreased\": \"no\",\n",
      "  \"right picc line tip projects over the lower svc\": \"no\",\n",
      "  \"slight blunting of right costophrenic angle\": \"no\",\n",
      "  \"mild bibasilar opacities stable\": \"no\",\n",
      "  \"perihilar opacity with air bronchograms\": \"no\",\n",
      "  \"air-fluid level in the posterior aspect of the lung\": \"no\",\n",
      "  \"pattern most likely reflecting worsening pulmonary edema\": \"depends\",\n",
      "  \"interval development of infectious process\": \"no\",\n",
      "  \"patient's chin obscures evaluation of the medial lung apices\": \"no\",\n",
      "  \"remainder of the lungs are grossly clear\": \"no\",\n",
      "  \"midthoracic dextroscoliosis\": \"no\",\n",
      "  \"minimal amount of left pleural effusion suspected\": \"no\",\n",
      "  \"basilar opacity in the right lower lobe\": \"no\",\n",
      "  \"worsening, interstitial and alveolar opacities primarily in the right lung\": \"no\",\n",
      "  \"ng tube ends in the proximal gastric cavity\": \"no\",\n",
      "  \"new heterogeneous opacity of the right lung apex\": \"no\",\n",
      "  \"right lower lobe consolidation with possible atelectasis\": \"no\",\n",
      "  \"moderate layering right pleural effusion also appears slightly smaller\": \"no\",\n",
      "  \"dahboff tube has been removed\": \"no\",\n",
      "  \"right port-a-cath in constant position\": \"no\",\n",
      "  \"lower lobe is congested\": \"no\",\n",
      "  \"potential prominence of the left pulmonary artery\": \"depends\",\n",
      "  \"pleural plaques\": \"no\",\n",
      "  \"residual mild interstitial edema still present\": \"no\",\n",
      "  \"these likely represent a combination of pulmonary edema and atelectasis, however in the appropriate clinical setting underlying pneumonia cannot be excluded\": \"no\",\n",
      "  \"right pleural effusion similar to prior\": \"no\",\n",
      "  \"lungs are clear, but hyperinflated\": \"no\",\n",
      "  \"heart likely upper limits of normal in size\": \"depends\",\n",
      "  \"aspiration or pneumonia likely\": \"no\",\n",
      "  \"transvenous ij pacemaker\": \"no\",\n",
      "  \"impression of chf that has worsened\": \"depends\",\n",
      "  \"prominence of pulmonary vasculature is likely secondary to crowding from low lung volumes\": \"no\",\n",
      "  \"left venous access line is likely positioned in the persistent left superior vena cava\": \"no\",\n",
      "  \"mild pulmonary edema, predominantly interstitial\": \"no\",\n",
      "  \"slight reduction in height of 2 vertebral bodies\": \"no\",\n",
      "  \"opacities at the lung bases\": \"no\",\n",
      "  \"spinal fixation devices seen\": \"no\",\n",
      "  \"expected post-cabg changes\": \"no\",\n",
      "  \"worsening moderate pulmonary and interstitial edema\": \"depends\",\n",
      "  \"presumed surgical material in relation to the anteromedial aspect of the right hemidiaphragm\": \"no\",\n",
      "  \"new right internal jugular vein catheter with normal course\": \"no\",\n",
      "  \"the cardiac silhouette, hilar, and mediastinal contours appear normal\": \"no\",\n",
      "  \"unchanged bilateral basal opacities\": \"no\",\n",
      "  \"cardiac silhouette has grown substantially larger\": \"yes\",\n",
      "  \"left upper lobe remains collapsed around a large mass\": \"no\",\n",
      "  \"nasogastric drainage tube ends in the upper portion of a mildly distended stomach\": \"no\",\n",
      "  \"moderate elevation of the left hemidiaphragm persists\": \"no\",\n",
      "  \"dual lead pacemaker identified\": \"no\",\n",
      "  \"left paramedian line with four radiodense markers\": \"no\",\n",
      "  \"increased interstitial opacities in the right lung\": \"no\",\n",
      "  \"enlarged heart\": \"yes\",\n",
      "  \"an ng tube is present, tip extends beneath the diaphragm and overlies the stomach\": \"no\",\n",
      "  \"endotracheal tube difficult to identify\": \"no\",\n",
      "  \"asymmetric opacification of the right hemithorax\": \"no\",\n",
      "  \"cardiac silhouette is slightly larger now than earlier in the day\": \"depends\",\n",
      "  \"interstitial abnormality at the base of the left lung could be consolidation\": \"no\",\n",
      "  \"clips in the left upper quadrant are noted\": \"no\",\n",
      "  \"lower lung volumes accentuate pulmonary vascular markings\": \"no\",\n",
      "  \"nipple shadow projects over the right lower hemithorax\": \"no\",\n",
      "  \"scattered interstitial opacities with lower lung predominance\": \"no\",\n",
      "  \"right lung mass\": \"no\",\n",
      "  \"catheter tubing in the left lower abdomen\": \"no\",\n",
      "  \"interval increase in ground-glass airspace opacification in multiple lung zones\": \"no\",\n",
      "  \"no prior\": \"no\",\n",
      "  \"chronic deformity of the humeral head\": \"no\"\n",
      "}\n"
     ]
    },
    {
     "data": {
      "text/plain": [
       "{'picc line needs to be advanced by approximately 8 cm': 'no',\n",
       " 'upper enteric drainage tube ends in a non-distended stomach': 'no',\n",
       " 'small pleural effusions, larger on the right': 'no',\n",
       " 'consolidation in the left lower lung continues to improve': 'no',\n",
       " 'et tube tip at 5.5 cm above the carina': 'no',\n",
       " 'slight interval improvement in aeration at the left lung base': 'no',\n",
       " 'possible left goiter or cervical adenopathy': 'no',\n",
       " 'possible underlying emphysema': 'no',\n",
       " 'substantial interval increase in ground-glass opacities': 'no',\n",
       " 'vascular stents in both brachiocephalic veins': 'no',\n",
       " 'evidence of cervical fusion device': 'no',\n",
       " 'healed lateral left rib fractures': 'no',\n",
       " 'additional support lines and tubes in appropriate position': 'no',\n",
       " 'substantial pleural effusion accompanied by areas of relatively extensive parenchymal collapse': 'no',\n",
       " 'no consolidation, pneumothorax or pleural effusion': 'no',\n",
       " 'associated decrease in bilateral pleural effusions': 'no',\n",
       " 'right lower lobe pneumonia has essentially cleared': 'no',\n",
       " 'right lung volume is quite low': 'no',\n",
       " 'retrocardiac opacity concerning for lower lobe pneumonia': 'no',\n",
       " 'faint opacity in the right hemithorax': 'no',\n",
       " 'ng tube and endotracheal tube removed': 'no',\n",
       " 'on going improvement of the post biopsy parenchymal opacity at the left lung bases': 'no',\n",
       " 'right-sided ij line with distal lead tip in the distal svc': 'no',\n",
       " 'no definite acute fracture or pneumothorax': 'no',\n",
       " 'large right posterior pleural loculation is bigger and contains more fluid and less air': 'no',\n",
       " 'interstitial markings are diffusely increased': 'no',\n",
       " 'there are no focal lung consolidations': 'no',\n",
       " 'pacemaker generator and leads appear in unchanged position': 'no',\n",
       " 'sharp margination of a region of consolidation in the right lower lung could be explained by loculated pneumothorax': 'no',\n",
       " 'improved ventilation of the left lower lung and the left lung bases': 'no',\n",
       " 'opacity adjacent to the right mediastinal border': 'depends',\n",
       " 'subsegmental atelectasis in the left mid lung': 'no',\n",
       " 'enlargement of the cardiac silhouette due to known cardiomegaly and pericardial effusion': 'yes',\n",
       " 'massive aspiration': 'no',\n",
       " 'no perivascular haze or evidence of interstitial or alveolar edema': 'no',\n",
       " 'small effusions have decreased': 'no',\n",
       " 'right picc line tip projects over the lower svc': 'no',\n",
       " 'slight blunting of right costophrenic angle': 'no',\n",
       " 'mild bibasilar opacities stable': 'no',\n",
       " 'perihilar opacity with air bronchograms': 'no',\n",
       " 'air-fluid level in the posterior aspect of the lung': 'no',\n",
       " 'pattern most likely reflecting worsening pulmonary edema': 'depends',\n",
       " 'interval development of infectious process': 'no',\n",
       " \"patient's chin obscures evaluation of the medial lung apices\": 'no',\n",
       " 'remainder of the lungs are grossly clear': 'no',\n",
       " 'midthoracic dextroscoliosis': 'no',\n",
       " 'minimal amount of left pleural effusion suspected': 'no',\n",
       " 'basilar opacity in the right lower lobe': 'no',\n",
       " 'worsening, interstitial and alveolar opacities primarily in the right lung': 'no',\n",
       " 'ng tube ends in the proximal gastric cavity': 'no',\n",
       " 'new heterogeneous opacity of the right lung apex': 'no',\n",
       " 'right lower lobe consolidation with possible atelectasis': 'no',\n",
       " 'moderate layering right pleural effusion also appears slightly smaller': 'no',\n",
       " 'dahboff tube has been removed': 'no',\n",
       " 'right port-a-cath in constant position': 'no',\n",
       " 'lower lobe is congested': 'no',\n",
       " 'potential prominence of the left pulmonary artery': 'depends',\n",
       " 'pleural plaques': 'no',\n",
       " 'residual mild interstitial edema still present': 'no',\n",
       " 'these likely represent a combination of pulmonary edema and atelectasis, however in the appropriate clinical setting underlying pneumonia cannot be excluded': 'no',\n",
       " 'right pleural effusion similar to prior': 'no',\n",
       " 'lungs are clear, but hyperinflated': 'no',\n",
       " 'heart likely upper limits of normal in size': 'depends',\n",
       " 'aspiration or pneumonia likely': 'no',\n",
       " 'transvenous ij pacemaker': 'no',\n",
       " 'impression of chf that has worsened': 'depends',\n",
       " 'prominence of pulmonary vasculature is likely secondary to crowding from low lung volumes': 'no',\n",
       " 'left venous access line is likely positioned in the persistent left superior vena cava': 'no',\n",
       " 'mild pulmonary edema, predominantly interstitial': 'no',\n",
       " 'slight reduction in height of 2 vertebral bodies': 'no',\n",
       " 'opacities at the lung bases': 'no',\n",
       " 'spinal fixation devices seen': 'no',\n",
       " 'expected post-cabg changes': 'no',\n",
       " 'worsening moderate pulmonary and interstitial edema': 'depends',\n",
       " 'presumed surgical material in relation to the anteromedial aspect of the right hemidiaphragm': 'no',\n",
       " 'new right internal jugular vein catheter with normal course': 'no',\n",
       " 'the cardiac silhouette, hilar, and mediastinal contours appear normal': 'no',\n",
       " 'unchanged bilateral basal opacities': 'no',\n",
       " 'cardiac silhouette has grown substantially larger': 'yes',\n",
       " 'left upper lobe remains collapsed around a large mass': 'no',\n",
       " 'nasogastric drainage tube ends in the upper portion of a mildly distended stomach': 'no',\n",
       " 'moderate elevation of the left hemidiaphragm persists': 'no',\n",
       " 'dual lead pacemaker identified': 'no',\n",
       " 'left paramedian line with four radiodense markers': 'no',\n",
       " 'increased interstitial opacities in the right lung': 'no',\n",
       " 'enlarged heart': 'yes',\n",
       " 'an ng tube is present, tip extends beneath the diaphragm and overlies the stomach': 'no',\n",
       " 'endotracheal tube difficult to identify': 'no',\n",
       " 'asymmetric opacification of the right hemithorax': 'no',\n",
       " 'cardiac silhouette is slightly larger now than earlier in the day': 'depends',\n",
       " 'interstitial abnormality at the base of the left lung could be consolidation': 'no',\n",
       " 'clips in the left upper quadrant are noted': 'no',\n",
       " 'lower lung volumes accentuate pulmonary vascular markings': 'no',\n",
       " 'nipple shadow projects over the right lower hemithorax': 'no',\n",
       " 'scattered interstitial opacities with lower lung predominance': 'no',\n",
       " 'right lung mass': 'no',\n",
       " 'catheter tubing in the left lower abdomen': 'no',\n",
       " 'interval increase in ground-glass airspace opacification in multiple lung zones': 'no',\n",
       " 'no prior': 'no',\n",
       " 'chronic deformity of the humeral head': 'no'}"
      ]
     },
     "execution_count": 8,
     "metadata": {},
     "output_type": "execute_result"
    }
   ],
   "source": [
    "print(response)\n",
    "json.loads(response)"
   ]
  },
  {
   "cell_type": "code",
   "execution_count": 16,
   "id": "cbf70394",
   "metadata": {},
   "outputs": [
    {
     "data": {
      "text/plain": [
       "[['obscuration of the right hemidiaphragm posteriorly', 'no'],\n",
       " ['multiple small surgical clips in the right anterior chest wall', 'no'],\n",
       " ['left internal jugular catheter ends in the lower svc', 'no'],\n",
       " ['air inclusions in the right lateral chest wall', 'no'],\n",
       " ['air-filled loops of nondilated small bowel are present', 'no'],\n",
       " ['has not changed over the past week', 'depends'],\n",
       " ['small tent-like opacity at the right cardiophrenic border may represent focal atelectasis',\n",
       "  'no'],\n",
       " ['large right lower lobe atelectasis is unchanged', 'no'],\n",
       " ['atelectasis and possible small effusion', 'no'],\n",
       " ['placement of a dobbhoff catheter that extends to the distal stomach', 'no'],\n",
       " ['left subclavian central venous catheter terminates at the upper portion of the svc',\n",
       "  'no'],\n",
       " ['moderate bilateral pleural effusions, larger on the left side, have decreased in amount',\n",
       "  'no'],\n",
       " ['right jugular vascular line ends at the origin of the svc', 'no'],\n",
       " ['lungs are hyperinflated consistent with underlying emphysema', 'no'],\n",
       " ['side in more progressed than on the prior study', 'depends'],\n",
       " ['continued low lung volumes with bilateral atelectatic changes', 'no'],\n",
       " ['new left retrocardiac opacity, highly concerning for interval development of atelectasis',\n",
       "  'no'],\n",
       " ['greater opacification at the lung bases could be atelectasis or coalescent edema',\n",
       "  'no'],\n",
       " ['minimal residual patchy opacity at the right lung base', 'no'],\n",
       " ['right subclavian pic line ends in the upper svc', 'no'],\n",
       " ['obscuration of the hemidiaphragm on the right', 'no'],\n",
       " ['no substantial tracheal narrowing on the frontal radiograph', 'no'],\n",
       " ['pneumothorax no longer visible', 'no'],\n",
       " ['remnant minimal atelectasis in the retrocardiac lung regions', 'no'],\n",
       " ['mild lingular and left base linear atelectasis', 'no'],\n",
       " ['no significant pulmonary abnormality on the right side', 'no'],\n",
       " ['stent seen projecting over the right axilla', 'no'],\n",
       " ['no significant change in the position of the support lines and tubes',\n",
       "  'no'],\n",
       " ['unchanged platelike atelectasis at the right lung base', 'no'],\n",
       " ['infectious process remains possible', 'no'],\n",
       " ['left and right pleural effusions almost completely resolved', 'no'],\n",
       " ['pre-existing massive right pneumonia has almost completely resolved', 'no'],\n",
       " ['minimal dextroscoliosis of the thoracic spine', 'no'],\n",
       " ['lucency projecting over the neck on the right could be subcutaneous gas',\n",
       "  'no'],\n",
       " ['stent seen within the esophagus', 'no'],\n",
       " ['confluent opacities in nearly the entirety of the right lung field', 'no'],\n",
       " ['basal atelectasis/consolidation stable', 'no'],\n",
       " ['tunneled screw at the right humeral head', 'no'],\n",
       " ['2 keys project over the right hemithorax', 'no'],\n",
       " ['heart failure is no longer contributory', 'depends'],\n",
       " ['no intraparenchymal changes', 'no'],\n",
       " ['cardiac silhouette enlarged and indistinct', 'yes'],\n",
       " ['left basal pleural drains still in position', 'no'],\n",
       " ['old fracture of the posterior left seventh rib', 'no'],\n",
       " ['multiple post-surgical changes on the right side', 'no'],\n",
       " ['no pneumothorax or obvious subdiaphragmatic air detected', 'no'],\n",
       " ['retrocardiac opacity presumably component of pleural effusion and overlying atelectasis',\n",
       "  'no'],\n",
       " ['focal opacity in the right midlung and right lung base', 'no'],\n",
       " ['ett is 5.2 cm above the carina', 'no'],\n",
       " ['possible smaller region has all resolved', 'no'],\n",
       " ['left retrocardiac opacity persistent', 'no'],\n",
       " ['recurrent multiloculated right pleural effusion', 'no'],\n",
       " ['bilateral tiny crescentic lucencies under the diaphragm, consistent with pneumoperitoneum postoperatively',\n",
       "  'no'],\n",
       " ['coarse biapical opacities similar to the ___ examination', 'no'],\n",
       " ['pleural thickening and scarring within the right lung base is unchanged',\n",
       "  'no'],\n",
       " ['ill-defined area of opacity projecting over the right upper lung', 'no'],\n",
       " ['right central venous infusion port catheter ends close to or just beyond the superior cavoatrial junction',\n",
       "  'no'],\n",
       " ['triangular peripheral interstitial opacities in the right mid lung field',\n",
       "  'no'],\n",
       " ['no nodule identified', 'no'],\n",
       " ['pre-existing opacity at the right lung base has slightly decreased in extent',\n",
       "  'no'],\n",
       " ['left juxtahilar linear atelectasis', 'no'],\n",
       " ['large pulmonary arteries reflect pulmonary arterial hypertension',\n",
       "  'depends'],\n",
       " ['no significant changes compared to prior study', 'depends'],\n",
       " ['mediasinal widening unchanged consistent with mediastinal lipomatosis',\n",
       "  'no'],\n",
       " ['stable findings since prior study', 'depends'],\n",
       " ['transvenous right atrioventricular pacer leads follow their expected courses',\n",
       "  'no'],\n",
       " ['mild right mediastinal enlargement with stent in the brachiocephalic vein',\n",
       "  'no'],\n",
       " ['moderate, somewhat increased interstitial abnormality suggesting mild congestive heart failure',\n",
       "  'depends'],\n",
       " ['redemonstration of radiation fibrotic changes within the left upper paramediastinal region',\n",
       "  'no'],\n",
       " ['large right lower lobe pneumonia', 'no'],\n",
       " ['more air bronchograms in the retrocardiac lung regions', 'no'],\n",
       " ['heterogeneous opacification in the right mid and lower and left lower lung',\n",
       "  'no'],\n",
       " ['approximately 3 cm left lower lobe nodule', 'no'],\n",
       " ['continued dilatation of loops of bowel in the left upper quadrant', 'no'],\n",
       " ['right lung abnormality is relatively mild, probably basal atelectasis',\n",
       "  'no'],\n",
       " ['heart is stably enlarged without significant vascular congestion', 'yes'],\n",
       " ['lucency at the right lung base may be a small pneumothorax', 'no'],\n",
       " ['vague opacity in the left upper lung', 'no'],\n",
       " ['unchanged right juxtahilar opacities', 'no'],\n",
       " ['left lower lobe opacities may represent atelectasis, aspiration or pneumonia',\n",
       "  'no'],\n",
       " ['crowding of the bronchovascular markings with mild pulmonary vascular engorgement',\n",
       "  'depends'],\n",
       " ['appearance of the aortic stent graft is constant', 'no'],\n",
       " ['left pleural effusion associated with atelectasis', 'no'],\n",
       " ['low lung volumes are even lower today', 'no'],\n",
       " ['known massive post-operative aortic changes', 'no'],\n",
       " ['postoperative heart size remains unchanged', 'depends'],\n",
       " ['very small layering component of right pleural effusion', 'no'],\n",
       " ['bilateral humeral head replacement', 'no'],\n",
       " ['findings concerning for interstitial pulmonary edema progression',\n",
       "  'depends'],\n",
       " ['somewhat lower lung volumes', 'no'],\n",
       " ['triple-channel pacer in place with leads in appropriate position', 'no'],\n",
       " ['broken superior-most median sternotomy wire', 'no'],\n",
       " ['likely small pleural effusions bilaterally', 'no'],\n",
       " ['mediastinal widening consistent with post-operative change', 'no'],\n",
       " ['no new consolidation to suggest interval development of infectious process demonstrated',\n",
       "  'no'],\n",
       " ['multiple, minimally displaced right rib fractures', 'no'],\n",
       " ['epidural catheter over midline thoracic spine', 'no'],\n",
       " ['extensive hyperexpansion of the lungs', 'no'],\n",
       " ['lung volumes remain very low', 'no'],\n",
       " ['left hemidiaphragm elevation less pronounced', 'no'],\n",
       " ['callus formation of the posterior aspect of the sixth rib on the right',\n",
       "  'no'],\n",
       " ['mild tortuosity of the thoracic aorta with calcification of the aortic knob',\n",
       "  'no'],\n",
       " ['extensive left-sided pleural effusion', 'no'],\n",
       " ['pericardial drainage catheter projects over the region of the left hemidiaphragm',\n",
       "  'no'],\n",
       " ['dependent edema and atelectasis would explain the change', 'no'],\n",
       " ['right chest port present with tip terminating in the right atrium', 'no'],\n",
       " ['vertebral fractures not manifest on chest x-ray', 'no'],\n",
       " ['unchanged port-a-cath', 'no'],\n",
       " ['linear left basilar opacity most compatible with atelectasis or scar',\n",
       "  'no'],\n",
       " ['no evidence of acute infectious changes', 'no'],\n",
       " ['right jugular hemodialysis catheters end in the right atrium', 'no'],\n",
       " ['widespread parenchymal and pleural abnormalities are unchanged/minimally decreased in particular in the left perihilar area and right lower lung',\n",
       "  'no'],\n",
       " ['coarsened interstial markings in the lung bases', 'no'],\n",
       " ['remaining opacities on the left and right are constant', 'no'],\n",
       " ['atelectasis within the lingular segment', 'no'],\n",
       " ['peribronchial opacification in the right lower lung', 'no'],\n",
       " ['a right picc terminates in the upper svc', 'no'],\n",
       " ['postsurgical changes at the right mid lung', 'no'],\n",
       " ['new moderate right hydro pneumothorax', 'no'],\n",
       " ['calcification at the lateral right lung base', 'no'],\n",
       " ['increased interstitial markings likely related to chronic changes', 'no'],\n",
       " ['left retrocardiac opacity persists but is improving', 'no'],\n",
       " ['left internal jugular hemodialysis catheter in the distal svc', 'no'],\n",
       " ['worse compared to previous', 'depends'],\n",
       " ['interval worsening of the perihilar opacities', 'no'],\n",
       " ['increase in the small left pleural effusion', 'no'],\n",
       " ['study limited for the assessment of rib fractures', 'no'],\n",
       " ['bones may be demineralized to some degree', 'no'],\n",
       " ['hazy rounded opacity in the left upper lung zone', 'no'],\n",
       " ['percutaneous gastrojejunostomy catheter noted', 'no'],\n",
       " ['moderate bilateral pleural effusions have worsened', 'no'],\n",
       " ['trace free intraperitoneal air beneath the right diaphragm', 'no'],\n",
       " ['right-sided pigtail catheter is intact', 'no'],\n",
       " ['dobhoff tube tip in the esophagus', 'no'],\n",
       " ['right apical pneumothorax no longer appreciated', 'no'],\n",
       " ['no new areas of focal consolidations or opacities', 'no'],\n",
       " ['right internal jugular line terminates at the level of superior to mid svc',\n",
       "  'no'],\n",
       " ['patchy atelectasis in the right base', 'no'],\n",
       " ['no pulmonary hemorrhage', 'no'],\n",
       " ['side-port in the region of the gastric body', 'no'],\n",
       " ['tip of the endotracheal tube, 2 cm from the carina', 'no'],\n",
       " ['region of questioned aspiration in the right upper lobe has improved',\n",
       "  'no'],\n",
       " ['previous discrete regions of opacity in the right lung are clearing', 'no'],\n",
       " ['hyperlucency of the upper lobes', 'no'],\n",
       " ['heart size is top normal with probable left atrial enlargement', 'yes'],\n",
       " ['ogt tip in mid thoracic esophagus', 'no'],\n",
       " ['thoracic aorta generally large but not focally dilated', 'no'],\n",
       " ['extensive extrapleural fat deposition', 'no'],\n",
       " ['probable left ij central line terminating in the area of the right atrium',\n",
       "  'no'],\n",
       " ['postsurgical cardiomediastinal silhouette is unchanged', 'depends'],\n",
       " ['tortuosity of the descending aorta unchanged', 'no'],\n",
       " ['expansile lesion in the left lower rib unchanged', 'no'],\n",
       " ['subsegmental atelectasis at the lung bases', 'no'],\n",
       " ['prominent fat pad adjacent to the right heart border', 'no'],\n",
       " ['stable linear opacifications in bilateral lung bases', 'no'],\n",
       " ['normal size of the cardiac silhouette', 'yes'],\n",
       " ['possibility of left lower lobe collapse and/or consolidation', 'no'],\n",
       " ['epicardial pacer wires in dual-chamber pacemaker leads in satisfactory position',\n",
       "  'no'],\n",
       " ['coronary arterial stents', 'no'],\n",
       " ['interval slight additional progression of right upper lobe consolidation',\n",
       "  'no'],\n",
       " ['difficulty assessing the region behind the heart', 'depends'],\n",
       " ['port-a-cath residing over the right chest wall with catheter tip in the low svc',\n",
       "  'no'],\n",
       " ['large area of parenchymal consolidation at the right lung bases', 'no'],\n",
       " ['persistent streaky opacities at the lung bases', 'no'],\n",
       " ['moderate enlargement of the cardiomediastinal silhouette is unchanged',\n",
       "  'yes'],\n",
       " ['no evidence of confluent consolidation', 'no'],\n",
       " ['endotracheal tube, nasogastric tube and right internal jugular central line are unchanged in position',\n",
       "  'no'],\n",
       " ['multifocal consolidations are slightly worsen in the right upper lobe',\n",
       "  'no'],\n",
       " ['thoracic scoliosis and compression deformities in the spine appear similar',\n",
       "  'no'],\n",
       " ['right mediastinal shift associated with previous surgical resection',\n",
       "  'depends'],\n",
       " ['left subclavian cvl tip at cavoatrial junction', 'no'],\n",
       " ['subcutaneous gas seen in the right chest wall and right supraclavicular area',\n",
       "  'no'],\n",
       " ['pre-existing parenchymal opacities have almost completely resolved', 'no'],\n",
       " ['small focus of mild peribronchial infiltration in the right lung base',\n",
       "  'no'],\n",
       " ['healed right rib fracture is unchanged', 'no'],\n",
       " ['faint opacity over left upper quadrant of abdomen may represent residual contrast in the stomach',\n",
       "  'no'],\n",
       " ['right picc line has been repositioned and ends in the midclavicular region, not within the svc',\n",
       "  'no'],\n",
       " ['persistent diffuse widespread opacities', 'no'],\n",
       " ['atelectasis with infiltrates in the right lower lobe', 'no'],\n",
       " ['concurrent pneumonia is a real possibility', 'no'],\n",
       " ['volume loss and left retrocardiac opacity', 'no'],\n",
       " ['residual opacification in the lungs is relatively mild', 'no'],\n",
       " ['focal opacity in the left mid lung', 'no'],\n",
       " ['interval placement of a nasogastric tube which courses below diaphragm and the tip is not identified',\n",
       "  'no'],\n",
       " ['new right infrahilar opacity obscuring the right heart border', 'depends'],\n",
       " ['signs of pulmonary edema present in unchanged manner', 'no'],\n",
       " ['hypertrophic change is again noted in the spine', 'no'],\n",
       " ['no left-sided pleural effusion or pneumothorax bilaterally', 'no'],\n",
       " ['assess for et and pneumothorax', 'no'],\n",
       " ['small pleural effusion, right greater than left', 'no'],\n",
       " ['two adjacent nodular opacities along the upper aspect of the left ventricle',\n",
       "  'no'],\n",
       " ['still present left pleural effusion', 'no'],\n",
       " ['may now involve the axillary region of the right upper lobe', 'no'],\n",
       " ['continued bilateral basilar atelectatic changes', 'no'],\n",
       " ['mediastinal and pulmonary vasculature are more engorged', 'no'],\n",
       " ['no interval progression of pleural effusions', 'no'],\n",
       " ['radiopaque densities projected over left right upper quadrant', 'no'],\n",
       " ['unchanged partially evaluated spinal hardware', 'no'],\n",
       " ['continued increased opacification at the left base in the retrocardiac region',\n",
       "  'no'],\n",
       " ['interval improvement in right-sided parenchymal opacities', 'no']]"
      ]
     },
     "execution_count": 16,
     "metadata": {},
     "output_type": "execute_result"
    }
   ],
   "source": [
    "with open('/home/than/DeepLearning/CheXzero/data/mimic_pseudoans_cardiomegaly_0.1.json', 'r') as f:\n",
    "    mimic_pseudoans = json.load(f)\n",
    "mimic_pseudoans"
   ]
  }
 ],
 "metadata": {
  "kernelspec": {
   "display_name": "gemma",
   "language": "python",
   "name": "python3"
  },
  "language_info": {
   "codemirror_mode": {
    "name": "ipython",
    "version": 3
   },
   "file_extension": ".py",
   "mimetype": "text/x-python",
   "name": "python",
   "nbconvert_exporter": "python",
   "pygments_lexer": "ipython3",
   "version": "3.10.17"
  }
 },
 "nbformat": 4,
 "nbformat_minor": 5
}
